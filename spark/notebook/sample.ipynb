{
 "cells": [
  {
   "cell_type": "code",
   "execution_count": 1,
   "id": "05172d46-e262-4cf8-ac8e-b4ad32998212",
   "metadata": {},
   "outputs": [],
   "source": [
    "%load_ext sparksql_magic"
   ]
  },
  {
   "cell_type": "code",
   "execution_count": 2,
   "id": "681b43ae-733e-4ca4-a7a0-c7ae91f3fb98",
   "metadata": {},
   "outputs": [],
   "source": [
    "import pyspark\n",
    "from pyspark.sql import SparkSession, Row\n",
    "\n",
    "from datetime import datetime,date"
   ]
  },
  {
   "cell_type": "code",
   "execution_count": 3,
   "id": "f95ef687-0c96-4f70-b5cb-f0e7241c6c63",
   "metadata": {},
   "outputs": [
    {
     "data": {
      "text/html": [
       "\n",
       "            <div>\n",
       "                <p><b>SparkSession - in-memory</b></p>\n",
       "                \n",
       "        <div>\n",
       "            <p><b>SparkContext</b></p>\n",
       "\n",
       "            <p><a href=\"http://adc29637d5df:4040\">Spark UI</a></p>\n",
       "\n",
       "            <dl>\n",
       "              <dt>Version</dt>\n",
       "                <dd><code>v3.5.0</code></dd>\n",
       "              <dt>Master</dt>\n",
       "                <dd><code>local[*]</code></dd>\n",
       "              <dt>AppName</dt>\n",
       "                <dd><code>test</code></dd>\n",
       "            </dl>\n",
       "        </div>\n",
       "        \n",
       "            </div>\n",
       "        "
      ],
      "text/plain": [
       "<pyspark.sql.session.SparkSession at 0xffff817edc10>"
      ]
     },
     "execution_count": 3,
     "metadata": {},
     "output_type": "execute_result"
    }
   ],
   "source": [
    "#https://iceberg.apache.org/spark-quickstart/#adding-a-catalog\n",
    "#TODO for reference for aws config: https://www.dremio.com/blog/deep-dive-into-configuring-your-apache-iceberg-catalog-with-apache-spark/\n",
    "conf = (\n",
    "    pyspark.SparkConf()\n",
    "        .setAppName('test')\n",
    "        #Configure AWS (Minio)\n",
    "        .set('spark.hadoop.fs.s3a.endpoint','http://localhost:9000')\n",
    "        .set('spark.hadoop.fs.s3a.access.key','minioadmin')\n",
    "        .set('spark.hadoop.fs.s3a.secret.key','minioadmin')\n",
    "        .set('spark.hadoop.fs.s3a.path.style.access','true')\n",
    "        .set('spark.hadoop.fs.s3a.path.style.access','org.apache.hadoop.fs.s3a.S3AFileSystem')\n",
    "  \t\t#packages\n",
    "        .set('spark.jars.packages', 'org.apache.iceberg:iceberg-spark-runtime-3.5_2.12:1.4.3,software.amazon.awssdk:bundle:2.17.178,software.amazon.awssdk:url-connection-client:2.17.178')\n",
    "  \t\t#SQL Extensions\n",
    "        .set('spark.sql.extensions', 'org.apache.iceberg.spark.extensions.IcebergSparkSessionExtensions')\n",
    "  \t\t#Configuring Catalog\n",
    "        .set('spark.sql.catalog.hdfs_catalog', 'org.apache.iceberg.spark.SparkCatalog')\n",
    "        .set('spark.sql.catalog.hdfs_catalog.type', 'hadoop')\n",
    "        .set('spark.sql.catalog.hdfs_catalog.warehouse', '../datasets/sample-datasets/iceberg/')\n",
    "        .set('spark.sql.defaultCatalog', 'hdfs_catalog')\n",
    "        \n",
    ")\n",
    "\n",
    "spark = SparkSession.builder.config(conf=conf).getOrCreate()\n",
    "spark"
   ]
  },
  {
   "cell_type": "code",
   "execution_count": 4,
   "id": "f37d22d0-7788-48d5-9b32-dcf428f4f4d6",
   "metadata": {},
   "outputs": [
    {
     "data": {
      "text/plain": [
       "DataFrame[]"
      ]
     },
     "execution_count": 4,
     "metadata": {},
     "output_type": "execute_result"
    }
   ],
   "source": [
    "sql_create = \"\"\"\n",
    "CREATE TABLE IF NOT EXISTS prod.employee (\n",
    "    id bigint COMMENT 'unique id for employee',\n",
    "    birth_date date COMMENT 'birth date of employee',\n",
    "    country string COMMENT 'Country location of employee',\n",
    "    name string)\n",
    "    PARTITIONED BY (country)\n",
    "\"\"\"\n",
    "spark.sql(sql_create)"
   ]
  },
  {
   "cell_type": "markdown",
   "id": "5b9b22df-67d9-4c02-ac04-844a7f6d6334",
   "metadata": {},
   "source": [
    "### Above Step will create employe table under prod catalog\n",
    "- You can navigate to `../datasets/iceberg/prod/employee/`\n",
    "- You'll see metadata under the folder\n",
    "- - This has version-hint.text and v1.metadata.json\n",
    "  - `version-hint.text` has version number of the current metadata file. This file exists as we are using hadoop as our catalog.[1]\n",
    "  - `v1.metadata.json` has metdata on the table including its schema information and location of the data"
   ]
  },
  {
   "cell_type": "code",
   "execution_count": 5,
   "id": "62b7f853-381d-4cb6-8f2f-570ce226b4db",
   "metadata": {},
   "outputs": [
    {
     "name": "stdout",
     "output_type": "stream",
     "text": [
      "4"
     ]
    }
   ],
   "source": [
    "!cat ../datasets/sample-datasets/iceberg/prod/employee/metadata/version-hint.text"
   ]
  },
  {
   "cell_type": "code",
   "execution_count": 6,
   "id": "bdd1b99a-ccad-4fea-b995-bfa7f9614046",
   "metadata": {},
   "outputs": [
    {
     "name": "stdout",
     "output_type": "stream",
     "text": [
      "{\n",
      "  \"format-version\" : 2,\n",
      "  \"table-uuid\" : \"465bf768-a384-4b51-b587-d9e6cb957cf1\",\n",
      "  \"location\" : \"../datasets/sample-datasets/iceberg/prod/employee\",\n",
      "  \"last-sequence-number\" : 0,\n",
      "  \"last-updated-ms\" : 1706687747043,\n",
      "  \"last-column-id\" : 4,\n",
      "  \"current-schema-id\" : 0,\n",
      "  \"schemas\" : [ {\n",
      "    \"type\" : \"struct\",\n",
      "    \"schema-id\" : 0,\n",
      "    \"fields\" : [ {\n",
      "      \"id\" : 1,\n",
      "      \"name\" : \"id\",\n",
      "      \"required\" : false,\n",
      "      \"type\" : \"long\",\n",
      "      \"doc\" : \"unique id for employee\"\n",
      "    }, {\n",
      "      \"id\" : 2,\n",
      "      \"name\" : \"birth_date\",\n",
      "      \"required\" : false,\n",
      "      \"type\" : \"date\",\n",
      "      \"doc\" : \"birth date of employee\"\n",
      "    }, {\n",
      "      \"id\" : 3,\n",
      "      \"name\" : \"country\",\n",
      "      \"required\" : false,\n",
      "      \"type\" : \"string\",\n",
      "      \"doc\" : \"Country location of employee\"\n",
      "    }, {\n",
      "      \"id\" : 4,\n",
      "      \"name\" : \"name\",\n",
      "      \"required\" : false,\n",
      "      \"type\" : \"string\"\n",
      "    } ]\n",
      "  } ],\n",
      "  \"default-spec-id\" : 0,\n",
      "  \"partition-specs\" : [ {\n",
      "    \"spec-id\" : 0,\n",
      "    \"fields\" : [ {\n",
      "      \"name\" : \"country\",\n",
      "      \"transform\" : \"identity\",\n",
      "      \"source-id\" : 3,\n",
      "      \"field-id\" : 1000\n",
      "    } ]\n",
      "  } ],\n",
      "  \"last-partition-id\" : 1000,\n",
      "  \"default-sort-order-id\" : 0,\n",
      "  \"sort-orders\" : [ {\n",
      "    \"order-id\" : 0,\n",
      "    \"fields\" : [ ]\n",
      "  } ],\n",
      "  \"properties\" : {\n",
      "    \"owner\" : \"jovyan\",\n",
      "    \"write.parquet.compression-codec\" : \"zstd\"\n",
      "  },\n",
      "  \"current-snapshot-id\" : -1,\n",
      "  \"refs\" : { },\n",
      "  \"snapshots\" : [ ],\n",
      "  \"statistics\" : [ ],\n",
      "  \"snapshot-log\" : [ ],\n",
      "  \"metadata-log\" : [ ]\n",
      "}"
     ]
    }
   ],
   "source": [
    "!cat ../datasets/sample-datasets/iceberg/prod/employee/metadata/v1.metadata.json"
   ]
  },
  {
   "cell_type": "code",
   "execution_count": 7,
   "id": "4d8856ea-0b84-4912-853b-5408170cd4a9",
   "metadata": {},
   "outputs": [],
   "source": [
    "df_emp = spark.createDataFrame([\n",
    "    Row(id=1, country='USA', birth_date=date(2000, 8, 1), name=\"A\"),\n",
    "   \n",
    "    Row(id=2, country='IN', birth_date=date(2000, 6, 2), name=\"B\"),\n",
    "   \n",
    "    Row(id=4, country='USA', birth_date=date(2000, 5, 3), name=\"C\")\n",
    "])\n",
    " "
   ]
  },
  {
   "cell_type": "code",
   "execution_count": 8,
   "id": "043cd2eb-d54f-4e4c-bc91-168687618898",
   "metadata": {},
   "outputs": [
    {
     "name": "stdout",
     "output_type": "stream",
     "text": [
      "+---+-------+----------+----+\n",
      "| id|country|birth_date|name|\n",
      "+---+-------+----------+----+\n",
      "|  1|    USA|2000-08-01|   A|\n",
      "|  2|     IN|2000-06-02|   B|\n",
      "|  4|    USA|2000-05-03|   C|\n",
      "+---+-------+----------+----+\n",
      "\n"
     ]
    }
   ],
   "source": [
    "df_emp.show()"
   ]
  },
  {
   "cell_type": "code",
   "execution_count": 9,
   "id": "ee509fc2-64f2-47b4-b6de-8efca75b7c8b",
   "metadata": {},
   "outputs": [],
   "source": [
    "df_emp.writeTo(\"prod.employee\")\\\n",
    "        .partitionedBy(\"country\") \\\n",
    "        .append()"
   ]
  },
  {
   "cell_type": "code",
   "execution_count": 10,
   "id": "db2d5e18-075e-48a5-b0dd-ee1d696dab88",
   "metadata": {},
   "outputs": [],
   "source": [
    "### The above command will add data and you can see v2.metadata.json add"
   ]
  },
  {
   "cell_type": "code",
   "execution_count": 11,
   "id": "b6297081-0eed-4925-a5a3-80f92564292c",
   "metadata": {},
   "outputs": [
    {
     "name": "stdout",
     "output_type": "stream",
     "text": [
      "5"
     ]
    }
   ],
   "source": [
    "!cat ../datasets/sample-datasets/iceberg/prod/employee/metadata/version-hint.text"
   ]
  },
  {
   "cell_type": "code",
   "execution_count": 12,
   "id": "616a4094-6af2-41d6-89c2-c7bcd1c3c413",
   "metadata": {},
   "outputs": [
    {
     "name": "stdout",
     "output_type": "stream",
     "text": [
      "{\n",
      "  \"format-version\" : 2,\n",
      "  \"table-uuid\" : \"465bf768-a384-4b51-b587-d9e6cb957cf1\",\n",
      "  \"location\" : \"../datasets/sample-datasets/iceberg/prod/employee\",\n",
      "  \"last-sequence-number\" : 0,\n",
      "  \"last-updated-ms\" : 1706687747043,\n",
      "  \"last-column-id\" : 4,\n",
      "  \"current-schema-id\" : 0,\n",
      "  \"schemas\" : [ {\n",
      "    \"type\" : \"struct\",\n",
      "    \"schema-id\" : 0,\n",
      "    \"fields\" : [ {\n",
      "      \"id\" : 1,\n",
      "      \"name\" : \"id\",\n",
      "      \"required\" : false,\n",
      "      \"type\" : \"long\",\n",
      "      \"doc\" : \"unique id for employee\"\n",
      "    }, {\n",
      "      \"id\" : 2,\n",
      "      \"name\" : \"birth_date\",\n",
      "      \"required\" : false,\n",
      "      \"type\" : \"date\",\n",
      "      \"doc\" : \"birth date of employee\"\n",
      "    }, {\n",
      "      \"id\" : 3,\n",
      "      \"name\" : \"country\",\n",
      "      \"required\" : false,\n",
      "      \"type\" : \"string\",\n",
      "      \"doc\" : \"Country location of employee\"\n",
      "    }, {\n",
      "      \"id\" : 4,\n",
      "      \"name\" : \"name\",\n",
      "      \"required\" : false,\n",
      "      \"type\" : \"string\"\n",
      "    } ]\n",
      "  } ],\n",
      "  \"default-spec-id\" : 0,\n",
      "  \"partition-specs\" : [ {\n",
      "    \"spec-id\" : 0,\n",
      "    \"fields\" : [ {\n",
      "      \"name\" : \"country\",\n",
      "      \"transform\" : \"identity\",\n",
      "      \"source-id\" : 3,\n",
      "      \"field-id\" : 1000\n",
      "    } ]\n",
      "  } ],\n",
      "  \"last-partition-id\" : 1000,\n",
      "  \"default-sort-order-id\" : 0,\n",
      "  \"sort-orders\" : [ {\n",
      "    \"order-id\" : 0,\n",
      "    \"fields\" : [ ]\n",
      "  } ],\n",
      "  \"properties\" : {\n",
      "    \"owner\" : \"jovyan\",\n",
      "    \"write.parquet.compression-codec\" : \"zstd\"\n",
      "  },\n",
      "  \"current-snapshot-id\" : -1,\n",
      "  \"refs\" : { },\n",
      "  \"snapshots\" : [ ],\n",
      "  \"statistics\" : [ ],\n",
      "  \"snapshot-log\" : [ ],\n",
      "  \"metadata-log\" : [ ]\n",
      "}"
     ]
    }
   ],
   "source": [
    "!cat ../datasets/sample-datasets/iceberg/prod/employee/metadata/v1.metadata.json"
   ]
  },
  {
   "cell_type": "markdown",
   "id": "621df23d-ecb9-44c9-a7fd-7bb02ae1e2e6",
   "metadata": {},
   "source": [
    "### Query Data"
   ]
  },
  {
   "cell_type": "code",
   "execution_count": 13,
   "id": "cc31ec72-3d18-42a6-a9f3-d78882f5db45",
   "metadata": {},
   "outputs": [
    {
     "data": {
      "text/plain": [
       "[Row(id=3, birth_date=datetime.date(2000, 8, 1), country='IN', name='D'),\n",
       " Row(id=2, birth_date=datetime.date(2000, 6, 2), country='IN', name='B'),\n",
       " Row(id=3, birth_date=datetime.date(2000, 8, 1), country='IN', name='D'),\n",
       " Row(id=1, birth_date=datetime.date(2000, 8, 1), country='USA', name='A'),\n",
       " Row(id=4, birth_date=datetime.date(2000, 5, 3), country='USA', name='C'),\n",
       " Row(id=2, birth_date=datetime.date(2000, 6, 2), country='IN', name='B'),\n",
       " Row(id=1, birth_date=datetime.date(2000, 8, 1), country='USA', name='A'),\n",
       " Row(id=4, birth_date=datetime.date(2000, 5, 3), country='USA', name='C')]"
      ]
     },
     "execution_count": 13,
     "metadata": {},
     "output_type": "execute_result"
    }
   ],
   "source": [
    "spark.sql(\"select * from prod.employee\").collect()"
   ]
  },
  {
   "cell_type": "code",
   "execution_count": 14,
   "id": "172a5681-b7cd-458a-8941-5c9d982d3ab1",
   "metadata": {},
   "outputs": [
    {
     "data": {
      "text/html": [
       "<table><tr style=\"border-bottom: 1px solid\"><td style=\"font-weight: bold\">id</td><td style=\"font-weight: bold\">birth_date</td><td style=\"font-weight: bold\">country</td><td style=\"font-weight: bold\">name</td></tr><tr><td>2</td><td>2000-06-02</td><td>IN</td><td>B</td></tr><tr><td>1</td><td>2000-08-01</td><td>USA</td><td>A</td></tr><tr><td>4</td><td>2000-05-03</td><td>USA</td><td>C</td></tr><tr><td>3</td><td>2000-08-01</td><td>IN</td><td>D</td></tr><tr><td>3</td><td>2000-08-01</td><td>IN</td><td>D</td></tr><tr><td>2</td><td>2000-06-02</td><td>IN</td><td>B</td></tr><tr><td>1</td><td>2000-08-01</td><td>USA</td><td>A</td></tr><tr><td>4</td><td>2000-05-03</td><td>USA</td><td>C</td></tr></table>"
      ],
      "text/plain": [
       "<IPython.core.display.HTML object>"
      ]
     },
     "execution_count": 14,
     "metadata": {},
     "output_type": "execute_result"
    }
   ],
   "source": [
    "%%sparksql\n",
    "select * from prod.employee"
   ]
  },
  {
   "cell_type": "markdown",
   "id": "9e21955f-ce2e-4872-ae78-d92037e25aa1",
   "metadata": {},
   "source": [
    "References:\n",
    "1. https://www.dremio.com/resources/guides/apache-iceberg-an-architectural-look-under-the-covers/"
   ]
  },
  {
   "cell_type": "markdown",
   "id": "62354819-b364-41d8-a4a9-8ece4da9dcf0",
   "metadata": {},
   "source": [
    "### Insert Data"
   ]
  },
  {
   "cell_type": "code",
   "execution_count": 15,
   "id": "85c43cc1-835a-4ff5-ba2f-5f9af6e1c431",
   "metadata": {},
   "outputs": [
    {
     "data": {
      "text/html": [
       "<table><tr style=\"border-bottom: 1px solid\"><td style=\"font-weight: bold\">col_name</td><td style=\"font-weight: bold\">data_type</td><td style=\"font-weight: bold\">comment</td></tr><tr><td>id</td><td>bigint</td><td>unique id for employee</td></tr><tr><td>birth_date</td><td>date</td><td>birth date of employee</td></tr><tr><td>country</td><td>string</td><td>Country location of employee</td></tr><tr><td>name</td><td>string</td><td>null</td></tr><tr><td># Partition Information</td><td></td><td></td></tr><tr><td># col_name</td><td>data_type</td><td>comment</td></tr><tr><td>country</td><td>string</td><td>Country location of employee</td></tr></table>"
      ],
      "text/plain": [
       "<IPython.core.display.HTML object>"
      ]
     },
     "execution_count": 15,
     "metadata": {},
     "output_type": "execute_result"
    }
   ],
   "source": [
    "%%sparksql\n",
    "Describe prod.employee"
   ]
  },
  {
   "cell_type": "code",
   "execution_count": 16,
   "id": "a9756a66-83da-429f-ab1d-590624a7474b",
   "metadata": {},
   "outputs": [
    {
     "data": {
      "text/html": [
       "<table><tr style=\"border-bottom: 1px solid\"></tr></table>"
      ],
      "text/plain": [
       "<IPython.core.display.HTML object>"
      ]
     },
     "execution_count": 16,
     "metadata": {},
     "output_type": "execute_result"
    }
   ],
   "source": [
    "%%sparksql\n",
    "Insert into prod.employee\n",
    "Values (3, CAST('2000-08-01' AS date), 'IN', 'D')"
   ]
  },
  {
   "cell_type": "code",
   "execution_count": 17,
   "id": "1527f512-9fd4-463b-a233-d140147ae75f",
   "metadata": {},
   "outputs": [
    {
     "data": {
      "text/html": [
       "<table><tr style=\"border-bottom: 1px solid\"><td style=\"font-weight: bold\">content</td><td style=\"font-weight: bold\">file_path</td><td style=\"font-weight: bold\">file_format</td><td style=\"font-weight: bold\">spec_id</td><td style=\"font-weight: bold\">partition</td><td style=\"font-weight: bold\">record_count</td><td style=\"font-weight: bold\">file_size_in_bytes</td><td style=\"font-weight: bold\">column_sizes</td><td style=\"font-weight: bold\">value_counts</td><td style=\"font-weight: bold\">null_value_counts</td><td style=\"font-weight: bold\">nan_value_counts</td><td style=\"font-weight: bold\">lower_bounds</td><td style=\"font-weight: bold\">upper_bounds</td><td style=\"font-weight: bold\">key_metadata</td><td style=\"font-weight: bold\">split_offsets</td><td style=\"font-weight: bold\">equality_ids</td><td style=\"font-weight: bold\">sort_order_id</td><td style=\"font-weight: bold\">readable_metrics</td></tr><tr><td>0</td><td>../datasets/sample-datasets/iceberg/prod/employee/data/country=IN/00000-22-de7cce31-22e9-4917-bd37-86ddaf2fa456-00001.parquet</td><td>PARQUET</td><td>0</td><td>Row(country=&#x27;IN&#x27;)</td><td>1</td><td>1196</td><td>{1: 40, 2: 41, 3: 38, 4: 37}</td><td>{1: 1, 2: 1, 3: 1, 4: 1}</td><td>{1: 0, 2: 0, 3: 0, 4: 0}</td><td>{}</td><td>{1: bytearray(b&#x27;\\x03\\x00\\x00\\x00\\x00\\x00\\x00\\x00&#x27;), 2: bytearray(b&#x27;\\xa2+\\x00\\x00&#x27;), 3: bytearray(b&#x27;IN&#x27;), 4: bytearray(b&#x27;D&#x27;)}</td><td>{1: bytearray(b&#x27;\\x03\\x00\\x00\\x00\\x00\\x00\\x00\\x00&#x27;), 2: bytearray(b&#x27;\\xa2+\\x00\\x00&#x27;), 3: bytearray(b&#x27;IN&#x27;), 4: bytearray(b&#x27;D&#x27;)}</td><td>null</td><td>[4]</td><td>null</td><td>0</td><td>Row(birth_date=Row(column_size=41, value_count=1, null_value_count=0, nan_value_count=None, lower_bound=datetime.date(2000, 8, 1), upper_bound=datetime.date(2000, 8, 1)), country=Row(column_size=38, value_count=1, null_value_count=0, nan_value_count=None, lower_bound=&#x27;IN&#x27;, upper_bound=&#x27;IN&#x27;), id=Row(column_size=40, value_count=1, null_value_count=0, nan_value_count=None, lower_bound=3, upper_bound=3), name=Row(column_size=37, value_count=1, null_value_count=0, nan_value_count=None, lower_bound=&#x27;D&#x27;, upper_bound=&#x27;D&#x27;))</td></tr><tr><td>0</td><td>../datasets/sample-datasets/iceberg/prod/employee/data/country=IN/00000-16-7cf8ba3a-c8a8-47cd-acb0-e654cc525c84-00002.parquet</td><td>PARQUET</td><td>0</td><td>Row(country=&#x27;IN&#x27;)</td><td>1</td><td>1220</td><td>{1: 46, 2: 41, 3: 44, 4: 43}</td><td>{1: 1, 2: 1, 3: 1, 4: 1}</td><td>{1: 0, 2: 0, 3: 0, 4: 0}</td><td>{}</td><td>{1: bytearray(b&#x27;\\x02\\x00\\x00\\x00\\x00\\x00\\x00\\x00&#x27;), 2: bytearray(b&#x27;f+\\x00\\x00&#x27;), 3: bytearray(b&#x27;IN&#x27;), 4: bytearray(b&#x27;B&#x27;)}</td><td>{1: bytearray(b&#x27;\\x02\\x00\\x00\\x00\\x00\\x00\\x00\\x00&#x27;), 2: bytearray(b&#x27;f+\\x00\\x00&#x27;), 3: bytearray(b&#x27;IN&#x27;), 4: bytearray(b&#x27;B&#x27;)}</td><td>null</td><td>[4]</td><td>null</td><td>0</td><td>Row(birth_date=Row(column_size=41, value_count=1, null_value_count=0, nan_value_count=None, lower_bound=datetime.date(2000, 6, 2), upper_bound=datetime.date(2000, 6, 2)), country=Row(column_size=44, value_count=1, null_value_count=0, nan_value_count=None, lower_bound=&#x27;IN&#x27;, upper_bound=&#x27;IN&#x27;), id=Row(column_size=46, value_count=1, null_value_count=0, nan_value_count=None, lower_bound=2, upper_bound=2), name=Row(column_size=43, value_count=1, null_value_count=0, nan_value_count=None, lower_bound=&#x27;B&#x27;, upper_bound=&#x27;B&#x27;))</td></tr><tr><td>0</td><td>../datasets/sample-datasets/iceberg/prod/employee/data/country=USA/00000-16-7cf8ba3a-c8a8-47cd-acb0-e654cc525c84-00001.parquet</td><td>PARQUET</td><td>0</td><td>Row(country=&#x27;USA&#x27;)</td><td>2</td><td>1280</td><td>{1: 54, 2: 46, 3: 75, 4: 48}</td><td>{1: 2, 2: 2, 3: 2, 4: 2}</td><td>{1: 0, 2: 0, 3: 0, 4: 0}</td><td>{}</td><td>{1: bytearray(b&#x27;\\x01\\x00\\x00\\x00\\x00\\x00\\x00\\x00&#x27;), 2: bytearray(b&#x27;H+\\x00\\x00&#x27;), 3: bytearray(b&#x27;USA&#x27;), 4: bytearray(b&#x27;A&#x27;)}</td><td>{1: bytearray(b&#x27;\\x04\\x00\\x00\\x00\\x00\\x00\\x00\\x00&#x27;), 2: bytearray(b&#x27;\\xa2+\\x00\\x00&#x27;), 3: bytearray(b&#x27;USA&#x27;), 4: bytearray(b&#x27;C&#x27;)}</td><td>null</td><td>[4]</td><td>null</td><td>0</td><td>Row(birth_date=Row(column_size=46, value_count=2, null_value_count=0, nan_value_count=None, lower_bound=datetime.date(2000, 5, 3), upper_bound=datetime.date(2000, 8, 1)), country=Row(column_size=75, value_count=2, null_value_count=0, nan_value_count=None, lower_bound=&#x27;USA&#x27;, upper_bound=&#x27;USA&#x27;), id=Row(column_size=54, value_count=2, null_value_count=0, nan_value_count=None, lower_bound=1, upper_bound=4), name=Row(column_size=48, value_count=2, null_value_count=0, nan_value_count=None, lower_bound=&#x27;A&#x27;, upper_bound=&#x27;C&#x27;))</td></tr><tr><td>0</td><td>../datasets/sample-datasets/iceberg/prod/employee/data/country=IN/00000-20-1266f857-fc52-4d70-880b-5c86a1808492-00001.parquet</td><td>PARQUET</td><td>0</td><td>Row(country=&#x27;IN&#x27;)</td><td>1</td><td>1196</td><td>{1: 40, 2: 41, 3: 38, 4: 37}</td><td>{1: 1, 2: 1, 3: 1, 4: 1}</td><td>{1: 0, 2: 0, 3: 0, 4: 0}</td><td>{}</td><td>{1: bytearray(b&#x27;\\x03\\x00\\x00\\x00\\x00\\x00\\x00\\x00&#x27;), 2: bytearray(b&#x27;\\xa2+\\x00\\x00&#x27;), 3: bytearray(b&#x27;IN&#x27;), 4: bytearray(b&#x27;D&#x27;)}</td><td>{1: bytearray(b&#x27;\\x03\\x00\\x00\\x00\\x00\\x00\\x00\\x00&#x27;), 2: bytearray(b&#x27;\\xa2+\\x00\\x00&#x27;), 3: bytearray(b&#x27;IN&#x27;), 4: bytearray(b&#x27;D&#x27;)}</td><td>null</td><td>[4]</td><td>null</td><td>0</td><td>Row(birth_date=Row(column_size=41, value_count=1, null_value_count=0, nan_value_count=None, lower_bound=datetime.date(2000, 8, 1), upper_bound=datetime.date(2000, 8, 1)), country=Row(column_size=38, value_count=1, null_value_count=0, nan_value_count=None, lower_bound=&#x27;IN&#x27;, upper_bound=&#x27;IN&#x27;), id=Row(column_size=40, value_count=1, null_value_count=0, nan_value_count=None, lower_bound=3, upper_bound=3), name=Row(column_size=37, value_count=1, null_value_count=0, nan_value_count=None, lower_bound=&#x27;D&#x27;, upper_bound=&#x27;D&#x27;))</td></tr><tr><td>0</td><td>../datasets/sample-datasets/iceberg/prod/employee/data/country=IN/00000-16-ee33d2d1-60bd-41ca-8964-a8386fa2980b-00002.parquet</td><td>PARQUET</td><td>0</td><td>Row(country=&#x27;IN&#x27;)</td><td>1</td><td>1220</td><td>{1: 46, 2: 41, 3: 44, 4: 43}</td><td>{1: 1, 2: 1, 3: 1, 4: 1}</td><td>{1: 0, 2: 0, 3: 0, 4: 0}</td><td>{}</td><td>{1: bytearray(b&#x27;\\x02\\x00\\x00\\x00\\x00\\x00\\x00\\x00&#x27;), 2: bytearray(b&#x27;f+\\x00\\x00&#x27;), 3: bytearray(b&#x27;IN&#x27;), 4: bytearray(b&#x27;B&#x27;)}</td><td>{1: bytearray(b&#x27;\\x02\\x00\\x00\\x00\\x00\\x00\\x00\\x00&#x27;), 2: bytearray(b&#x27;f+\\x00\\x00&#x27;), 3: bytearray(b&#x27;IN&#x27;), 4: bytearray(b&#x27;B&#x27;)}</td><td>null</td><td>[4]</td><td>null</td><td>0</td><td>Row(birth_date=Row(column_size=41, value_count=1, null_value_count=0, nan_value_count=None, lower_bound=datetime.date(2000, 6, 2), upper_bound=datetime.date(2000, 6, 2)), country=Row(column_size=44, value_count=1, null_value_count=0, nan_value_count=None, lower_bound=&#x27;IN&#x27;, upper_bound=&#x27;IN&#x27;), id=Row(column_size=46, value_count=1, null_value_count=0, nan_value_count=None, lower_bound=2, upper_bound=2), name=Row(column_size=43, value_count=1, null_value_count=0, nan_value_count=None, lower_bound=&#x27;B&#x27;, upper_bound=&#x27;B&#x27;))</td></tr><tr><td>0</td><td>../datasets/sample-datasets/iceberg/prod/employee/data/country=USA/00000-16-ee33d2d1-60bd-41ca-8964-a8386fa2980b-00001.parquet</td><td>PARQUET</td><td>0</td><td>Row(country=&#x27;USA&#x27;)</td><td>2</td><td>1280</td><td>{1: 54, 2: 46, 3: 75, 4: 48}</td><td>{1: 2, 2: 2, 3: 2, 4: 2}</td><td>{1: 0, 2: 0, 3: 0, 4: 0}</td><td>{}</td><td>{1: bytearray(b&#x27;\\x01\\x00\\x00\\x00\\x00\\x00\\x00\\x00&#x27;), 2: bytearray(b&#x27;H+\\x00\\x00&#x27;), 3: bytearray(b&#x27;USA&#x27;), 4: bytearray(b&#x27;A&#x27;)}</td><td>{1: bytearray(b&#x27;\\x04\\x00\\x00\\x00\\x00\\x00\\x00\\x00&#x27;), 2: bytearray(b&#x27;\\xa2+\\x00\\x00&#x27;), 3: bytearray(b&#x27;USA&#x27;), 4: bytearray(b&#x27;C&#x27;)}</td><td>null</td><td>[4]</td><td>null</td><td>0</td><td>Row(birth_date=Row(column_size=46, value_count=2, null_value_count=0, nan_value_count=None, lower_bound=datetime.date(2000, 5, 3), upper_bound=datetime.date(2000, 8, 1)), country=Row(column_size=75, value_count=2, null_value_count=0, nan_value_count=None, lower_bound=&#x27;USA&#x27;, upper_bound=&#x27;USA&#x27;), id=Row(column_size=54, value_count=2, null_value_count=0, nan_value_count=None, lower_bound=1, upper_bound=4), name=Row(column_size=48, value_count=2, null_value_count=0, nan_value_count=None, lower_bound=&#x27;A&#x27;, upper_bound=&#x27;C&#x27;))</td></tr><tr><td>0</td><td>../datasets/sample-datasets/iceberg/prod/employee/data/country=IN/00000-1-bb0ac802-bb68-4811-829e-106d4078207d-00001.parquet</td><td>PARQUET</td><td>0</td><td>Row(country=&#x27;IN&#x27;)</td><td>1</td><td>1196</td><td>{1: 40, 2: 41, 3: 38, 4: 37}</td><td>{1: 1, 2: 1, 3: 1, 4: 1}</td><td>{1: 0, 2: 0, 3: 0, 4: 0}</td><td>{}</td><td>{1: bytearray(b&#x27;\\x03\\x00\\x00\\x00\\x00\\x00\\x00\\x00&#x27;), 2: bytearray(b&#x27;\\xa2+\\x00\\x00&#x27;), 3: bytearray(b&#x27;IN&#x27;), 4: bytearray(b&#x27;D&#x27;)}</td><td>{1: bytearray(b&#x27;\\x03\\x00\\x00\\x00\\x00\\x00\\x00\\x00&#x27;), 2: bytearray(b&#x27;\\xa2+\\x00\\x00&#x27;), 3: bytearray(b&#x27;IN&#x27;), 4: bytearray(b&#x27;D&#x27;)}</td><td>null</td><td>[4]</td><td>null</td><td>0</td><td>Row(birth_date=Row(column_size=41, value_count=1, null_value_count=0, nan_value_count=None, lower_bound=datetime.date(2000, 8, 1), upper_bound=datetime.date(2000, 8, 1)), country=Row(column_size=38, value_count=1, null_value_count=0, nan_value_count=None, lower_bound=&#x27;IN&#x27;, upper_bound=&#x27;IN&#x27;), id=Row(column_size=40, value_count=1, null_value_count=0, nan_value_count=None, lower_bound=3, upper_bound=3), name=Row(column_size=37, value_count=1, null_value_count=0, nan_value_count=None, lower_bound=&#x27;D&#x27;, upper_bound=&#x27;D&#x27;))</td></tr></table>"
      ],
      "text/plain": [
       "<IPython.core.display.HTML object>"
      ]
     },
     "execution_count": 17,
     "metadata": {},
     "output_type": "execute_result"
    }
   ],
   "source": [
    "%%sparksql\n",
    "select * from prod.employee.files"
   ]
  },
  {
   "cell_type": "code",
   "execution_count": 18,
   "id": "dc7139db-b5ef-4eff-98c3-ce3213544313",
   "metadata": {},
   "outputs": [
    {
     "data": {
      "text/html": [
       "<table><tr style=\"border-bottom: 1px solid\"><td style=\"font-weight: bold\">made_current_at</td><td style=\"font-weight: bold\">snapshot_id</td><td style=\"font-weight: bold\">parent_id</td><td style=\"font-weight: bold\">is_current_ancestor</td></tr><tr><td>2024-02-09 13:06:56.525000</td><td>8629800571988728206</td><td>null</td><td>True</td></tr><tr><td>2024-02-09 13:09:18.204000</td><td>1539503790352931415</td><td>8629800571988728206</td><td>True</td></tr><tr><td>2024-02-09 13:09:28.972000</td><td>5015095645526593413</td><td>1539503790352931415</td><td>True</td></tr><tr><td>2024-02-09 13:13:20.249000</td><td>5850161128086219275</td><td>5015095645526593413</td><td>True</td></tr><tr><td>2024-02-09 13:13:21.664000</td><td>4411926792244445815</td><td>5850161128086219275</td><td>True</td></tr></table>"
      ],
      "text/plain": [
       "<IPython.core.display.HTML object>"
      ]
     },
     "execution_count": 18,
     "metadata": {},
     "output_type": "execute_result"
    }
   ],
   "source": [
    "%%sparksql\n",
    "SELECT *\n",
    "FROM prod.employee.history"
   ]
  },
  {
   "cell_type": "code",
   "execution_count": 19,
   "id": "5941848e-e23f-4b8e-aaa5-c485727e4d07",
   "metadata": {},
   "outputs": [
    {
     "data": {
      "text/html": [
       "<table><tr style=\"border-bottom: 1px solid\"><td style=\"font-weight: bold\">id</td><td style=\"font-weight: bold\">birth_date</td><td style=\"font-weight: bold\">country</td><td style=\"font-weight: bold\">name</td></tr><tr><td>3</td><td>2000-08-01</td><td>IN</td><td>D</td></tr></table>"
      ],
      "text/plain": [
       "<IPython.core.display.HTML object>"
      ]
     },
     "execution_count": 19,
     "metadata": {},
     "output_type": "execute_result"
    }
   ],
   "source": [
    "%%sparksql\n",
    "SELECT *\n",
    "FROM prod.employee VERSION AS OF 8629800571988728206"
   ]
  }
 ],
 "metadata": {
  "kernelspec": {
   "display_name": "Python 3 (ipykernel)",
   "language": "python",
   "name": "python3"
  },
  "language_info": {
   "codemirror_mode": {
    "name": "ipython",
    "version": 3
   },
   "file_extension": ".py",
   "mimetype": "text/x-python",
   "name": "python",
   "nbconvert_exporter": "python",
   "pygments_lexer": "ipython3",
   "version": "3.11.6"
  }
 },
 "nbformat": 4,
 "nbformat_minor": 5
}
