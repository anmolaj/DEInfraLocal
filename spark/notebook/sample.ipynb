{
 "cells": [
  {
   "cell_type": "code",
   "execution_count": 33,
   "id": "05172d46-e262-4cf8-ac8e-b4ad32998212",
   "metadata": {},
   "outputs": [],
   "source": [
    "%load_ext sparksql_magic"
   ]
  },
  {
   "cell_type": "code",
   "execution_count": 2,
   "id": "681b43ae-733e-4ca4-a7a0-c7ae91f3fb98",
   "metadata": {},
   "outputs": [],
   "source": [
    "import pyspark\n",
    "from pyspark.sql import SparkSession, Row\n",
    "\n",
    "from datetime import datetime,date"
   ]
  },
  {
   "cell_type": "code",
   "execution_count": 3,
   "id": "f95ef687-0c96-4f70-b5cb-f0e7241c6c63",
   "metadata": {},
   "outputs": [
    {
     "data": {
      "text/html": [
       "\n",
       "            <div>\n",
       "                <p><b>SparkSession - in-memory</b></p>\n",
       "                \n",
       "        <div>\n",
       "            <p><b>SparkContext</b></p>\n",
       "\n",
       "            <p><a href=\"http://44d9e35155a2:4040\">Spark UI</a></p>\n",
       "\n",
       "            <dl>\n",
       "              <dt>Version</dt>\n",
       "                <dd><code>v3.5.0</code></dd>\n",
       "              <dt>Master</dt>\n",
       "                <dd><code>local[*]</code></dd>\n",
       "              <dt>AppName</dt>\n",
       "                <dd><code>test</code></dd>\n",
       "            </dl>\n",
       "        </div>\n",
       "        \n",
       "            </div>\n",
       "        "
      ],
      "text/plain": [
       "<pyspark.sql.session.SparkSession at 0xffff880ccfd0>"
      ]
     },
     "execution_count": 3,
     "metadata": {},
     "output_type": "execute_result"
    }
   ],
   "source": [
    "#https://iceberg.apache.org/spark-quickstart/#adding-a-catalog\n",
    "#TODO for reference for aws config: https://www.dremio.com/blog/deep-dive-into-configuring-your-apache-iceberg-catalog-with-apache-spark/\n",
    "conf = (\n",
    "    pyspark.SparkConf()\n",
    "        .setAppName('test')\n",
    "        #Configure AWS (Minio)\n",
    "        .set('spark.hadoop.fs.s3a.endpoint','http://localhost:9000')\n",
    "        .set('spark.hadoop.fs.s3a.access.key','minioadmin')\n",
    "        .set('spark.hadoop.fs.s3a.secret.key','minioadmin')\n",
    "        .set('spark.hadoop.fs.s3a.path.style.access','true')\n",
    "        .set('spark.hadoop.fs.s3a.path.style.access','org.apache.hadoop.fs.s3a.S3AFileSystem')\n",
    "  \t\t#packages\n",
    "        .set('spark.jars.packages', 'org.apache.iceberg:iceberg-spark-runtime-3.5_2.12:1.4.3,software.amazon.awssdk:bundle:2.17.178,software.amazon.awssdk:url-connection-client:2.17.178')\n",
    "  \t\t#SQL Extensions\n",
    "        .set('spark.sql.extensions', 'org.apache.iceberg.spark.extensions.IcebergSparkSessionExtensions')\n",
    "  \t\t#Configuring Catalog\n",
    "        .set('spark.sql.catalog.hdfs_catalog', 'org.apache.iceberg.spark.SparkCatalog')\n",
    "        .set('spark.sql.catalog.hdfs_catalog.type', 'hadoop')\n",
    "        .set('spark.sql.catalog.hdfs_catalog.warehouse', '../datasets/sample-datasets/iceberg/')\n",
    "        .set('spark.sql.defaultCatalog', 'hdfs_catalog')\n",
    "        \n",
    ")\n",
    "\n",
    "spark = SparkSession.builder.config(conf=conf).getOrCreate()\n",
    "spark"
   ]
  },
  {
   "cell_type": "code",
   "execution_count": 4,
   "id": "8bdbae36-36d7-4b63-8392-c7c85865ca2a",
   "metadata": {},
   "outputs": [],
   "source": [
    "#!aws --endpoint-url http://localhost:9000 s3 ls s3://sample-datasets/"
   ]
  },
  {
   "cell_type": "code",
   "execution_count": 5,
   "id": "f37d22d0-7788-48d5-9b32-dcf428f4f4d6",
   "metadata": {},
   "outputs": [
    {
     "data": {
      "text/plain": [
       "DataFrame[]"
      ]
     },
     "execution_count": 5,
     "metadata": {},
     "output_type": "execute_result"
    }
   ],
   "source": [
    "sql_create = \"\"\"\n",
    "CREATE TABLE prod.employee (\n",
    "    id bigint COMMENT 'unique id for employee',\n",
    "    birth_date date COMMENT 'birth date of employee',\n",
    "    country string COMMENT 'Country location of employee',\n",
    "    name string)\n",
    "\"\"\"\n",
    "spark.sql(sql_create)"
   ]
  },
  {
   "cell_type": "markdown",
   "id": "5b9b22df-67d9-4c02-ac04-844a7f6d6334",
   "metadata": {},
   "source": [
    "### Above Step will create employe table under prod catalog\n",
    "- You can navigate to `../datasets/iceberg/prod/employee/`\n",
    "- You'll see metadata under the folder\n",
    "- - This has version-hint.text and v1.metadata.json\n",
    "  - `version-hint.text` has version number of the current metadata file. This file exists as we are using hadoop as our catalog.[1]\n",
    "  - `v1.metadata.json` has metdata on the table including its schema information and location of the data"
   ]
  },
  {
   "cell_type": "code",
   "execution_count": 15,
   "id": "62b7f853-381d-4cb6-8f2f-570ce226b4db",
   "metadata": {},
   "outputs": [
    {
     "name": "stdout",
     "output_type": "stream",
     "text": [
      "1"
     ]
    }
   ],
   "source": [
    "!cat ../datasets/sample-datasets/iceberg/prod/employee/metadata/version-hint.text"
   ]
  },
  {
   "cell_type": "code",
   "execution_count": 16,
   "id": "bdd1b99a-ccad-4fea-b995-bfa7f9614046",
   "metadata": {},
   "outputs": [
    {
     "name": "stdout",
     "output_type": "stream",
     "text": [
      "{\n",
      "  \"format-version\" : 2,\n",
      "  \"table-uuid\" : \"9ebb3c61-c9c3-4c50-85ec-fda589212ae9\",\n",
      "  \"location\" : \"../datasets/sample-datasets/iceberg/prod/employee\",\n",
      "  \"last-sequence-number\" : 0,\n",
      "  \"last-updated-ms\" : 1706680277552,\n",
      "  \"last-column-id\" : 4,\n",
      "  \"current-schema-id\" : 0,\n",
      "  \"schemas\" : [ {\n",
      "    \"type\" : \"struct\",\n",
      "    \"schema-id\" : 0,\n",
      "    \"fields\" : [ {\n",
      "      \"id\" : 1,\n",
      "      \"name\" : \"id\",\n",
      "      \"required\" : false,\n",
      "      \"type\" : \"long\",\n",
      "      \"doc\" : \"unique id for employee\"\n",
      "    }, {\n",
      "      \"id\" : 2,\n",
      "      \"name\" : \"birth_date\",\n",
      "      \"required\" : false,\n",
      "      \"type\" : \"date\",\n",
      "      \"doc\" : \"birth date of employee\"\n",
      "    }, {\n",
      "      \"id\" : 3,\n",
      "      \"name\" : \"country\",\n",
      "      \"required\" : false,\n",
      "      \"type\" : \"string\",\n",
      "      \"doc\" : \"Country location of employee\"\n",
      "    }, {\n",
      "      \"id\" : 4,\n",
      "      \"name\" : \"name\",\n",
      "      \"required\" : false,\n",
      "      \"type\" : \"string\"\n",
      "    } ]\n",
      "  } ],\n",
      "  \"default-spec-id\" : 0,\n",
      "  \"partition-specs\" : [ {\n",
      "    \"spec-id\" : 0,\n",
      "    \"fields\" : [ ]\n",
      "  } ],\n",
      "  \"last-partition-id\" : 999,\n",
      "  \"default-sort-order-id\" : 0,\n",
      "  \"sort-orders\" : [ {\n",
      "    \"order-id\" : 0,\n",
      "    \"fields\" : [ ]\n",
      "  } ],\n",
      "  \"properties\" : {\n",
      "    \"owner\" : \"jovyan\",\n",
      "    \"write.parquet.compression-codec\" : \"zstd\"\n",
      "  },\n",
      "  \"current-snapshot-id\" : -1,\n",
      "  \"refs\" : { },\n",
      "  \"snapshots\" : [ ],\n",
      "  \"statistics\" : [ ],\n",
      "  \"snapshot-log\" : [ ],\n",
      "  \"metadata-log\" : [ ]\n",
      "}"
     ]
    }
   ],
   "source": [
    "!cat ../datasets/sample-datasets/iceberg/prod/employee/metadata/v1.metadata.json"
   ]
  },
  {
   "cell_type": "code",
   "execution_count": 20,
   "id": "4d8856ea-0b84-4912-853b-5408170cd4a9",
   "metadata": {},
   "outputs": [],
   "source": [
    "df_emp = spark.createDataFrame([\n",
    "    Row(id=1, country='USA', birth_date=date(2000, 8, 1), name=\"A\"),\n",
    "   \n",
    "    Row(id=2, country='IN', birth_date=date(2000, 6, 2), name=\"B\"),\n",
    "   \n",
    "    Row(id=4, country='USA', birth_date=date(2000, 5, 3), name=\"C\")\n",
    "])\n",
    " "
   ]
  },
  {
   "cell_type": "code",
   "execution_count": 21,
   "id": "043cd2eb-d54f-4e4c-bc91-168687618898",
   "metadata": {},
   "outputs": [
    {
     "name": "stdout",
     "output_type": "stream",
     "text": [
      "+---+-------+----------+----+\n",
      "| id|country|birth_date|name|\n",
      "+---+-------+----------+----+\n",
      "|  1|    USA|2000-08-01|   A|\n",
      "|  2|     IN|2000-06-02|   B|\n",
      "|  4|    USA|2000-05-03|   C|\n",
      "+---+-------+----------+----+\n",
      "\n"
     ]
    }
   ],
   "source": [
    "df_emp.show()"
   ]
  },
  {
   "cell_type": "code",
   "execution_count": 22,
   "id": "ee509fc2-64f2-47b4-b6de-8efca75b7c8b",
   "metadata": {},
   "outputs": [],
   "source": [
    "df_emp.writeTo(\"prod.employee\")\\\n",
    "        .partitionedBy(\"country\") \\\n",
    "        .append()"
   ]
  },
  {
   "cell_type": "code",
   "execution_count": null,
   "id": "db2d5e18-075e-48a5-b0dd-ee1d696dab88",
   "metadata": {},
   "outputs": [],
   "source": [
    "### The above command will add data and you can see v2.metadata.json add"
   ]
  },
  {
   "cell_type": "code",
   "execution_count": 24,
   "id": "b6297081-0eed-4925-a5a3-80f92564292c",
   "metadata": {},
   "outputs": [
    {
     "name": "stdout",
     "output_type": "stream",
     "text": [
      "2"
     ]
    }
   ],
   "source": [
    "!cat ../datasets/sample-datasets/iceberg/prod/employee/metadata/version-hint.text"
   ]
  },
  {
   "cell_type": "code",
   "execution_count": 25,
   "id": "616a4094-6af2-41d6-89c2-c7bcd1c3c413",
   "metadata": {},
   "outputs": [
    {
     "name": "stdout",
     "output_type": "stream",
     "text": [
      "{\n",
      "  \"format-version\" : 2,\n",
      "  \"table-uuid\" : \"9ebb3c61-c9c3-4c50-85ec-fda589212ae9\",\n",
      "  \"location\" : \"../datasets/sample-datasets/iceberg/prod/employee\",\n",
      "  \"last-sequence-number\" : 0,\n",
      "  \"last-updated-ms\" : 1706680277552,\n",
      "  \"last-column-id\" : 4,\n",
      "  \"current-schema-id\" : 0,\n",
      "  \"schemas\" : [ {\n",
      "    \"type\" : \"struct\",\n",
      "    \"schema-id\" : 0,\n",
      "    \"fields\" : [ {\n",
      "      \"id\" : 1,\n",
      "      \"name\" : \"id\",\n",
      "      \"required\" : false,\n",
      "      \"type\" : \"long\",\n",
      "      \"doc\" : \"unique id for employee\"\n",
      "    }, {\n",
      "      \"id\" : 2,\n",
      "      \"name\" : \"birth_date\",\n",
      "      \"required\" : false,\n",
      "      \"type\" : \"date\",\n",
      "      \"doc\" : \"birth date of employee\"\n",
      "    }, {\n",
      "      \"id\" : 3,\n",
      "      \"name\" : \"country\",\n",
      "      \"required\" : false,\n",
      "      \"type\" : \"string\",\n",
      "      \"doc\" : \"Country location of employee\"\n",
      "    }, {\n",
      "      \"id\" : 4,\n",
      "      \"name\" : \"name\",\n",
      "      \"required\" : false,\n",
      "      \"type\" : \"string\"\n",
      "    } ]\n",
      "  } ],\n",
      "  \"default-spec-id\" : 0,\n",
      "  \"partition-specs\" : [ {\n",
      "    \"spec-id\" : 0,\n",
      "    \"fields\" : [ ]\n",
      "  } ],\n",
      "  \"last-partition-id\" : 999,\n",
      "  \"default-sort-order-id\" : 0,\n",
      "  \"sort-orders\" : [ {\n",
      "    \"order-id\" : 0,\n",
      "    \"fields\" : [ ]\n",
      "  } ],\n",
      "  \"properties\" : {\n",
      "    \"owner\" : \"jovyan\",\n",
      "    \"write.parquet.compression-codec\" : \"zstd\"\n",
      "  },\n",
      "  \"current-snapshot-id\" : -1,\n",
      "  \"refs\" : { },\n",
      "  \"snapshots\" : [ ],\n",
      "  \"statistics\" : [ ],\n",
      "  \"snapshot-log\" : [ ],\n",
      "  \"metadata-log\" : [ ]\n",
      "}"
     ]
    }
   ],
   "source": [
    "!cat ../datasets/sample-datasets/iceberg/prod/employee/metadata/v1.metadata.json"
   ]
  },
  {
   "cell_type": "code",
   "execution_count": 30,
   "id": "cc31ec72-3d18-42a6-a9f3-d78882f5db45",
   "metadata": {},
   "outputs": [
    {
     "data": {
      "text/plain": [
       "[Row(id=1, birth_date=datetime.date(2000, 8, 1), country='USA', name='A'),\n",
       " Row(id=2, birth_date=datetime.date(2000, 6, 2), country='IN', name='B'),\n",
       " Row(id=4, birth_date=datetime.date(2000, 5, 3), country='USA', name='C')]"
      ]
     },
     "execution_count": 30,
     "metadata": {},
     "output_type": "execute_result"
    }
   ],
   "source": [
    "spark.sql(\"select * from prod.employee\").collect()"
   ]
  },
  {
   "cell_type": "code",
   "execution_count": 38,
   "id": "172a5681-b7cd-458a-8941-5c9d982d3ab1",
   "metadata": {},
   "outputs": [
    {
     "data": {
      "text/html": [
       "<table><tr style=\"border-bottom: 1px solid\"><td style=\"font-weight: bold\">id</td><td style=\"font-weight: bold\">birth_date</td><td style=\"font-weight: bold\">country</td><td style=\"font-weight: bold\">name</td></tr><tr><td>1</td><td>2000-08-01</td><td>USA</td><td>A</td></tr><tr><td>2</td><td>2000-06-02</td><td>IN</td><td>B</td></tr><tr><td>4</td><td>2000-05-03</td><td>USA</td><td>C</td></tr></table>"
      ],
      "text/plain": [
       "<IPython.core.display.HTML object>"
      ]
     },
     "execution_count": 38,
     "metadata": {},
     "output_type": "execute_result"
    }
   ],
   "source": [
    "%%sparksql\n",
    "select * from prod.employee"
   ]
  },
  {
   "cell_type": "markdown",
   "id": "9e21955f-ce2e-4872-ae78-d92037e25aa1",
   "metadata": {},
   "source": [
    "References:\n",
    "1. https://www.dremio.com/resources/guides/apache-iceberg-an-architectural-look-under-the-covers/"
   ]
  },
  {
   "cell_type": "code",
   "execution_count": null,
   "id": "ca88a3aa-f08c-4526-bd1d-cc795ae21d7e",
   "metadata": {},
   "outputs": [],
   "source": []
  }
 ],
 "metadata": {
  "kernelspec": {
   "display_name": "Python 3 (ipykernel)",
   "language": "python",
   "name": "python3"
  },
  "language_info": {
   "codemirror_mode": {
    "name": "ipython",
    "version": 3
   },
   "file_extension": ".py",
   "mimetype": "text/x-python",
   "name": "python",
   "nbconvert_exporter": "python",
   "pygments_lexer": "ipython3",
   "version": "3.11.6"
  }
 },
 "nbformat": 4,
 "nbformat_minor": 5
}
