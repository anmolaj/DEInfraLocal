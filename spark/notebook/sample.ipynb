{
 "cells": [
  {
   "cell_type": "code",
   "execution_count": 1,
   "id": "681b43ae-733e-4ca4-a7a0-c7ae91f3fb98",
   "metadata": {},
   "outputs": [],
   "source": [
    "import pyspark\n",
    "from pyspark.sql import SparkSession, Row\n",
    "\n",
    "from datetime import datetime,date"
   ]
  },
  {
   "cell_type": "code",
   "execution_count": 14,
   "id": "f95ef687-0c96-4f70-b5cb-f0e7241c6c63",
   "metadata": {},
   "outputs": [
    {
     "name": "stdout",
     "output_type": "stream",
     "text": [
      "Spark Running\n"
     ]
    },
    {
     "data": {
      "text/html": [
       "\n",
       "            <div>\n",
       "                <p><b>SparkSession - in-memory</b></p>\n",
       "                \n",
       "        <div>\n",
       "            <p><b>SparkContext</b></p>\n",
       "\n",
       "            <p><a href=\"http://c5a8bfc0d810:4040\">Spark UI</a></p>\n",
       "\n",
       "            <dl>\n",
       "              <dt>Version</dt>\n",
       "                <dd><code>v3.5.0</code></dd>\n",
       "              <dt>Master</dt>\n",
       "                <dd><code>local[*]</code></dd>\n",
       "              <dt>AppName</dt>\n",
       "                <dd><code>test</code></dd>\n",
       "            </dl>\n",
       "        </div>\n",
       "        \n",
       "            </div>\n",
       "        "
      ],
      "text/plain": [
       "<pyspark.sql.session.SparkSession at 0xffff70e4db10>"
      ]
     },
     "execution_count": 14,
     "metadata": {},
     "output_type": "execute_result"
    }
   ],
   "source": [
    "#https://iceberg.apache.org/spark-quickstart/#adding-a-catalog\n",
    "conf = (\n",
    "    pyspark.SparkConf()\n",
    "        .setAppName('test')\n",
    "  \t\t#packages\n",
    "        .set('spark.jars.packages', 'org.apache.iceberg:iceberg-spark-runtime-3.5_2.12:1.4.3,software.amazon.awssdk:bundle:2.17.178,software.amazon.awssdk:url-connection-client:2.17.178')\n",
    "  \t\t#SQL Extensions\n",
    "        .set('spark.sql.extensions', 'org.apache.iceberg.spark.extensions.IcebergSparkSessionExtensions')\n",
    "  \t\t#Configuring Catalog\n",
    "        .set('spark.sql.catalog.local', 'org.apache.iceberg.spark.SparkCatalog')\n",
    "        .set('spark.sql.defaultCatalog','local')\n",
    "        .set('spark.sql.catalog.local.type', 'hadoop')\n",
    "        .set('spark.sql.catalog.local.warehouse', 'warehouse')\n",
    ")\n",
    "\n",
    "spark = SparkSession.builder.config(conf=conf).getOrCreate()\n",
    "print(f\"Spark Running\")\n",
    "spark"
   ]
  },
  {
   "cell_type": "code",
   "execution_count": 5,
   "id": "4d8856ea-0b84-4912-853b-5408170cd4a9",
   "metadata": {},
   "outputs": [],
   "source": [
    "df_emp = spark.createDataFrame([\n",
    "    Row(id=1, age=21, country='USA', birth_date=date(2000, 8, 1)),\n",
    "   \n",
    "    Row(id=2, age=21, country='IN', birth_date=date(2000, 6, 2)),\n",
    "   \n",
    "    Row(id=4, age=21, country='USA', birth_date=date(2000, 5, 3))\n",
    "])\n",
    " "
   ]
  },
  {
   "cell_type": "code",
   "execution_count": 6,
   "id": "043cd2eb-d54f-4e4c-bc91-168687618898",
   "metadata": {},
   "outputs": [
    {
     "name": "stdout",
     "output_type": "stream",
     "text": [
      "+---+---+-------+----------+\n",
      "| id|age|country|birth_date|\n",
      "+---+---+-------+----------+\n",
      "|  1| 21|    USA|2000-08-01|\n",
      "|  2| 21|     IN|2000-06-02|\n",
      "|  4| 21|    USA|2000-05-03|\n",
      "+---+---+-------+----------+\n",
      "\n"
     ]
    }
   ],
   "source": [
    "df_emp.show()"
   ]
  },
  {
   "cell_type": "code",
   "execution_count": 8,
   "id": "3d35716c-5cb9-4777-bd68-38d44e546a1a",
   "metadata": {},
   "outputs": [],
   "source": [
    "df_emp.repartition(\"country\").write.mode(\"overwrite\").parquet(\"sample_write_dataset/non_partitioned/emp_parquet/\") \n",
    "df_emp.repartition(\"country\").write.mode(\"overwrite\").partitionBy(\"country\").parquet(\"sample_write_dataset/partitioned/emp_parquet/\")"
   ]
  },
  {
   "cell_type": "code",
   "execution_count": 34,
   "id": "f1ee52ce-9dcf-4380-8697-faa0cb078a71",
   "metadata": {},
   "outputs": [
    {
     "name": "stdout",
     "output_type": "stream",
     "text": [
      ".\n",
      "..\n",
      "part-00000-e6991d84-d761-4963-87d1-ddf48c2b4fe6-c000.snappy.parquet\n",
      ".part-00000-e6991d84-d761-4963-87d1-ddf48c2b4fe6-c000.snappy.parquet.crc\n",
      "_SUCCESS\n",
      "._SUCCESS.crc\n"
     ]
    }
   ],
   "source": [
    "!ls sample_write_dataset/non_partitioned/emp_parquet/ -a"
   ]
  },
  {
   "cell_type": "code",
   "execution_count": 15,
   "id": "2a8df71f-dcf8-45ad-bf38-88bd26fa73d6",
   "metadata": {},
   "outputs": [],
   "source": [
    "df_emp.writeTo(\"test.employees\").create()"
   ]
  },
  {
   "cell_type": "code",
   "execution_count": 18,
   "id": "cc31ec72-3d18-42a6-a9f3-d78882f5db45",
   "metadata": {},
   "outputs": [
    {
     "data": {
      "text/plain": [
       "[Row(id=1, age=21, country='USA', birth_date=datetime.date(2000, 8, 1)),\n",
       " Row(id=2, age=21, country='IN', birth_date=datetime.date(2000, 6, 2)),\n",
       " Row(id=4, age=21, country='USA', birth_date=datetime.date(2000, 5, 3))]"
      ]
     },
     "execution_count": 18,
     "metadata": {},
     "output_type": "execute_result"
    }
   ],
   "source": [
    "spark.sql(\"select * from test.employees\").collect()"
   ]
  },
  {
   "cell_type": "code",
   "execution_count": 16,
   "id": "e53dda10-a28f-486e-a16b-b1be03dfa5b6",
   "metadata": {},
   "outputs": [],
   "source": [
    "#df_emp.write.format(\"delta\").save(\"sampel_write_dataset/partitioned/emp_delta/\")"
   ]
  },
  {
   "cell_type": "code",
   "execution_count": null,
   "id": "f5fb853a-56ff-4b1b-bb5b-ed2410b2cf1a",
   "metadata": {},
   "outputs": [],
   "source": []
  }
 ],
 "metadata": {
  "kernelspec": {
   "display_name": "Python 3 (ipykernel)",
   "language": "python",
   "name": "python3"
  },
  "language_info": {
   "codemirror_mode": {
    "name": "ipython",
    "version": 3
   },
   "file_extension": ".py",
   "mimetype": "text/x-python",
   "name": "python",
   "nbconvert_exporter": "python",
   "pygments_lexer": "ipython3",
   "version": "3.11.6"
  }
 },
 "nbformat": 4,
 "nbformat_minor": 5
}
